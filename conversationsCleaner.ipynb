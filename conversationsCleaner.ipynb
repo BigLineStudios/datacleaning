{
 "cells": [
  {
   "cell_type": "markdown",
   "id": "4798c68c-8eed-4f18-8521-3e0b3870cd68",
   "metadata": {},
   "source": [
    "This is for preparing your data."
   ]
  },
  {
   "cell_type": "code",
   "execution_count": null,
   "id": "6c608f95-969f-43a6-bded-e3f4c0a8477b",
   "metadata": {},
   "outputs": [],
   "source": [
    "import numpy as np"
   ]
  },
  {
   "cell_type": "code",
   "execution_count": 26,
   "id": "e9e4880a-1ad2-454e-b8ce-17b8e6e10c52",
   "metadata": {
    "tags": []
   },
   "outputs": [],
   "source": [
    "def get_conversation_messages(conversation):\n",
    "    messages = []\n",
    "    current_node = conversation[\"current_node\"]\n",
    "    while current_node:\n",
    "        node = conversation[\"mapping\"][current_node]\n",
    "        if node[\"message\"] and node[\"message\"][\"content\"] and node[\"message\"][\"content\"][\"content_type\"] == \"text\" and node[\"message\"][\"content\"][\"parts\"] and node[\"message\"][\"content\"][\"parts\"][0]:\n",
    "            author = node[\"message\"][\"author\"][\"role\"]\n",
    "            if author == \"assistant\":\n",
    "                author = \"ChatGPT\"\n",
    "            messages.append({\n",
    "                \"author\": author,\n",
    "                \"text\": node[\"message\"][\"content\"][\"parts\"][0]\n",
    "            })\n",
    "        current_node = node[\"parent\"]\n",
    "    return messages[::-1]\n",
    "\n",
    "with open(\"conversations.json\", \"r\") as f:\n",
    "    conversations = json.load(f)\n",
    "    string=json.dumps(\n",
    "            [\n",
    "                {\n",
    "                    \"title\": conversation[\"title\"],\n",
    "                    \"messages\": get_conversation_messages(conversation)\n",
    "                }\n",
    "                for conversation in conversations\n",
    "            ])"
   ]
  },
  {
   "cell_type": "code",
   "execution_count": 29,
   "id": "373cfabb-883e-46b4-bc69-4d916ef2e9c2",
   "metadata": {
    "tags": []
   },
   "outputs": [
    {
     "name": "stdout",
     "output_type": "stream",
     "text": [
      "[{\"title\": \"Maze Design Challenge.\", \"messages\": [{\"author\": \"user\", \"text\": \"There's a scene in a movie that goes something like this:\\n[We're standing on a University rooftop in France. I hand you a notebook of graph paper and a fine tip marker.] \\n\\\"You have two minutes to design a maze that'll take me a minute to solve.\\\"\\nWhat's the movie called? (Inception)\\nWhat should we call the scene? (The Maze Challenge)\\nWhat are some real life scenarios where a test like this might occur? \\nWhat part of the brain is being tested?\"}, {\"author\": \"ChatGPT\", \"text\": \"\\n\\nYes, the scene you are describ\n",
      "1744551\n"
     ]
    }
   ],
   "source": [
    "print(string[0:600:1])\n",
    "print(len(string))"
   ]
  },
  {
   "cell_type": "code",
   "execution_count": 35,
   "id": "d77bbd8f-1545-49c0-9b34-cdf1ddbeb4f2",
   "metadata": {
    "tags": []
   },
   "outputs": [
    {
     "name": "stdout",
     "output_type": "stream",
     "text": [
      "There are 95 unique characters and 1744551 characters in the dataset\n"
     ]
    }
   ],
   "source": [
    "vocab = sorted(set(string))\n",
    "print(\"There are\", len(vocab), \"unique characters and\", len(string), \"total characters in the dataset\")"
   ]
  },
  {
   "cell_type": "code",
   "execution_count": 33,
   "id": "1717fe8a-73ea-480c-ac75-b0c1dcda0d22",
   "metadata": {
    "tags": []
   },
   "outputs": [],
   "source": [
    "### Define numerical representation of text ###\n",
    "\n",
    "# Create a mapping from character to unique index.\n",
    "# For example, to get the index of the character \"d\", \n",
    "#   we can evaluate `char2idx[\"d\"]`.  \n",
    "char2idx = {u:i for i, u in enumerate(vocab)}\n",
    "\n",
    "# Create a mapping from indices to characters. This is\n",
    "#   the inverse of char2idx and allows us to convert back\n",
    "#   from unique index to the character in our vocabulary.\n",
    "idx2char = np.array(vocab)"
   ]
  },
  {
   "cell_type": "code",
   "execution_count": 34,
   "id": "84c19584-f371-4b7e-9d74-89487dc02682",
   "metadata": {
    "tags": []
   },
   "outputs": [
    {
     "name": "stdout",
     "output_type": "stream",
     "text": [
      "{\n",
      "  ' ' :   0,\n",
      "  '!' :   1,\n",
      "  '\"' :   2,\n",
      "  '#' :   3,\n",
      "  '$' :   4,\n",
      "  '%' :   5,\n",
      "  '&' :   6,\n",
      "  \"'\" :   7,\n",
      "  '(' :   8,\n",
      "  ')' :   9,\n",
      "  '*' :  10,\n",
      "  '+' :  11,\n",
      "  ',' :  12,\n",
      "  '-' :  13,\n",
      "  '.' :  14,\n",
      "  '/' :  15,\n",
      "  '0' :  16,\n",
      "  '1' :  17,\n",
      "  '2' :  18,\n",
      "  '3' :  19,\n",
      "  '4' :  20,\n",
      "  '5' :  21,\n",
      "  '6' :  22,\n",
      "  '7' :  23,\n",
      "  '8' :  24,\n",
      "  '9' :  25,\n",
      "  ':' :  26,\n",
      "  ';' :  27,\n",
      "  '<' :  28,\n",
      "  '=' :  29,\n",
      "  '>' :  30,\n",
      "  '?' :  31,\n",
      "  '@' :  32,\n",
      "  'A' :  33,\n",
      "  'B' :  34,\n",
      "  'C' :  35,\n",
      "  'D' :  36,\n",
      "  'E' :  37,\n",
      "  'F' :  38,\n",
      "  'G' :  39,\n",
      "  'H' :  40,\n",
      "  'I' :  41,\n",
      "  'J' :  42,\n",
      "  'K' :  43,\n",
      "  'L' :  44,\n",
      "  'M' :  45,\n",
      "  'N' :  46,\n",
      "  'O' :  47,\n",
      "  'P' :  48,\n",
      "  'Q' :  49,\n",
      "  'R' :  50,\n",
      "  'S' :  51,\n",
      "  'T' :  52,\n",
      "  'U' :  53,\n",
      "  'V' :  54,\n",
      "  'W' :  55,\n",
      "  'X' :  56,\n",
      "  'Y' :  57,\n",
      "  'Z' :  58,\n",
      "  '[' :  59,\n",
      "  '\\\\':  60,\n",
      "  ']' :  61,\n",
      "  '^' :  62,\n",
      "  '_' :  63,\n",
      "  '`' :  64,\n",
      "  'a' :  65,\n",
      "  'b' :  66,\n",
      "  'c' :  67,\n",
      "  'd' :  68,\n",
      "  'e' :  69,\n",
      "  'f' :  70,\n",
      "  'g' :  71,\n",
      "  'h' :  72,\n",
      "  'i' :  73,\n",
      "  'j' :  74,\n",
      "  'k' :  75,\n",
      "  'l' :  76,\n",
      "  'm' :  77,\n",
      "  'n' :  78,\n",
      "  'o' :  79,\n",
      "  'p' :  80,\n",
      "  'q' :  81,\n",
      "  'r' :  82,\n",
      "  's' :  83,\n",
      "  't' :  84,\n",
      "  'u' :  85,\n",
      "  'v' :  86,\n",
      "  'w' :  87,\n",
      "  'x' :  88,\n",
      "  'y' :  89,\n",
      "  'z' :  90,\n",
      "  '{' :  91,\n",
      "  '|' :  92,\n",
      "  '}' :  93,\n",
      "  '~' :  94,\n",
      "  ...\n",
      "}\n"
     ]
    }
   ],
   "source": [
    "print('{')\n",
    "for char,_ in zip(char2idx, range(190)):\n",
    "    print('  {:4s}: {:3d},'.format(repr(char), char2idx[char]))\n",
    "print('  ...\\n}')"
   ]
  }
 ],
 "metadata": {
  "kernelspec": {
   "display_name": "Python 3 (ipykernel)",
   "language": "python",
   "name": "python3"
  },
  "language_info": {
   "codemirror_mode": {
    "name": "ipython",
    "version": 3
   },
   "file_extension": ".py",
   "mimetype": "text/x-python",
   "name": "python",
   "nbconvert_exporter": "python",
   "pygments_lexer": "ipython3",
   "version": "3.9.2"
  }
 },
 "nbformat": 4,
 "nbformat_minor": 5
}
